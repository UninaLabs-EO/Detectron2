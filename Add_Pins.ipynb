{
  "nbformat": 4,
  "nbformat_minor": 0,
  "metadata": {
    "kernelspec": {
      "display_name": "Python 3",
      "language": "python",
      "name": "python3"
    },
    "language_info": {
      "codemirror_mode": {
        "name": "ipython",
        "version": 3
      },
      "file_extension": ".py",
      "mimetype": "text/x-python",
      "name": "python",
      "nbconvert_exporter": "python",
      "pygments_lexer": "ipython3",
      "version": "3.7.9-final"
    },
    "colab": {
      "name": "Add_Pins.ipynb",
      "provenance": [],
      "collapsed_sections": [],
      "toc_visible": true
    }
  },
  "cells": [
    {
      "cell_type": "code",
      "metadata": {
        "id": "NyIAYFZ4YIlR"
      },
      "source": [
        "import geopandas as gpd\n",
        "import pandas as pd\n",
        "from shapely.geometry import Point, Polygon"
      ],
      "execution_count": null,
      "outputs": []
    },
    {
      "cell_type": "code",
      "metadata": {
        "id": "AGvzF4T7YxIF",
        "colab": {
          "base_uri": "https://localhost:8080/"
        },
        "outputId": "c5e1a956-a9bb-4bfa-933b-753044c7950d"
      },
      "source": [
        "from google.colab import drive\n",
        "drive.mount('/content/drive')"
      ],
      "execution_count": null,
      "outputs": [
        {
          "output_type": "stream",
          "text": [
            "Mounted at /content/drive\n"
          ],
          "name": "stdout"
        }
      ]
    },
    {
      "cell_type": "code",
      "metadata": {
        "id": "WrHwRfWjYIlZ",
        "colab": {
          "base_uri": "https://localhost:8080/",
          "height": 215
        },
        "outputId": "261760ac-4689-4dfb-815d-64f2ee7c7d4f"
      },
      "source": [
        "path_to_xls = '/content/drive/MyDrive/df.xls'\n",
        "ais = pd.read_excel(path_to_xls)\n",
        "\n",
        "init = '2020-07-06 17:14:35'\n",
        "fine = '2020-07-06 17:15:02'\n",
        "\n",
        "ais = ais[(ais['timestamp'] > init) & (ais['timestamp'] < fine)]\n",
        "ais = ais.reset_index()\n",
        "ais = ais.drop('index', axis=1)\n",
        "ais.head(3)"
      ],
      "execution_count": null,
      "outputs": [
        {
          "output_type": "execute_result",
          "data": {
            "text/html": [
              "<div>\n",
              "<style scoped>\n",
              "    .dataframe tbody tr th:only-of-type {\n",
              "        vertical-align: middle;\n",
              "    }\n",
              "\n",
              "    .dataframe tbody tr th {\n",
              "        vertical-align: top;\n",
              "    }\n",
              "\n",
              "    .dataframe thead th {\n",
              "        text-align: right;\n",
              "    }\n",
              "</style>\n",
              "<table border=\"1\" class=\"dataframe\">\n",
              "  <thead>\n",
              "    <tr style=\"text-align: right;\">\n",
              "      <th></th>\n",
              "      <th>timestamp</th>\n",
              "      <th>mmsi</th>\n",
              "      <th>longitude</th>\n",
              "      <th>latitude</th>\n",
              "      <th>sog</th>\n",
              "      <th>cog</th>\n",
              "      <th>true_heading</th>\n",
              "      <th>type_and_cargo</th>\n",
              "      <th>name</th>\n",
              "      <th>imo</th>\n",
              "      <th>call_sign</th>\n",
              "      <th>dim_a</th>\n",
              "      <th>dim_b</th>\n",
              "      <th>dim_c</th>\n",
              "      <th>dim_d</th>\n",
              "      <th>draught</th>\n",
              "      <th>mmsi_valid</th>\n",
              "    </tr>\n",
              "  </thead>\n",
              "  <tbody>\n",
              "    <tr>\n",
              "      <th>0</th>\n",
              "      <td>2020-07-06 17:14:36</td>\n",
              "      <td>247316200</td>\n",
              "      <td>10.038257</td>\n",
              "      <td>43.578678</td>\n",
              "      <td>0.8</td>\n",
              "      <td>43.400002</td>\n",
              "      <td>19</td>\n",
              "      <td>52.0</td>\n",
              "      <td>LNG GUARDIAN</td>\n",
              "      <td>9615585.0</td>\n",
              "      <td>IIZJ2</td>\n",
              "      <td>15.0</td>\n",
              "      <td>30.0</td>\n",
              "      <td>8.0</td>\n",
              "      <td>4.0</td>\n",
              "      <td>4.8</td>\n",
              "      <td>1</td>\n",
              "    </tr>\n",
              "    <tr>\n",
              "      <th>1</th>\n",
              "      <td>2020-07-06 17:14:36</td>\n",
              "      <td>247227600</td>\n",
              "      <td>9.547657</td>\n",
              "      <td>44.165543</td>\n",
              "      <td>7.4</td>\n",
              "      <td>307.899994</td>\n",
              "      <td>511</td>\n",
              "      <td>70.0</td>\n",
              "      <td>COLOMBA C.</td>\n",
              "      <td>8841412.0</td>\n",
              "      <td>IXXH</td>\n",
              "      <td>40.0</td>\n",
              "      <td>8.0</td>\n",
              "      <td>3.0</td>\n",
              "      <td>13.0</td>\n",
              "      <td>2.5</td>\n",
              "      <td>1</td>\n",
              "    </tr>\n",
              "    <tr>\n",
              "      <th>2</th>\n",
              "      <td>2020-07-06 17:14:36</td>\n",
              "      <td>227017200</td>\n",
              "      <td>7.878168</td>\n",
              "      <td>43.638132</td>\n",
              "      <td>7.6</td>\n",
              "      <td>107.099998</td>\n",
              "      <td>511</td>\n",
              "      <td>52.0</td>\n",
              "      <td>CHAMBON BORA</td>\n",
              "      <td>8402618.0</td>\n",
              "      <td>FHPM</td>\n",
              "      <td>9.0</td>\n",
              "      <td>21.0</td>\n",
              "      <td>6.0</td>\n",
              "      <td>3.0</td>\n",
              "      <td>4.2</td>\n",
              "      <td>1</td>\n",
              "    </tr>\n",
              "  </tbody>\n",
              "</table>\n",
              "</div>"
            ],
            "text/plain": [
              "            timestamp       mmsi  longitude  ...  dim_d  draught  mmsi_valid\n",
              "0 2020-07-06 17:14:36  247316200  10.038257  ...    4.0      4.8           1\n",
              "1 2020-07-06 17:14:36  247227600   9.547657  ...   13.0      2.5           1\n",
              "2 2020-07-06 17:14:36  227017200   7.878168  ...    3.0      4.2           1\n",
              "\n",
              "[3 rows x 17 columns]"
            ]
          },
          "metadata": {
            "tags": []
          },
          "execution_count": 4
        }
      ]
    },
    {
      "cell_type": "markdown",
      "metadata": {
        "id": "Fz4TJG8hYIla"
      },
      "source": [
        "### Read default "
      ]
    },
    {
      "cell_type": "code",
      "metadata": {
        "id": "6IrNa5gOYIlb"
      },
      "source": [
        "style = 'symbol:pin; fill:#0000ff; fill-opacity:0.7; stroke:#ffffff; stroke-opacity:1.0; stroke-width:0.5'\n",
        "text = None\n",
        "dateTime = None"
      ],
      "execution_count": null,
      "outputs": []
    },
    {
      "cell_type": "markdown",
      "metadata": {
        "id": "srOkwZn5YIlc"
      },
      "source": [
        "# Create GeoDataframe"
      ]
    },
    {
      "cell_type": "code",
      "metadata": {
        "id": "cS-yYtvYYIlc",
        "colab": {
          "base_uri": "https://localhost:8080/",
          "height": 424
        },
        "outputId": "683fdad9-882c-4fa9-b5a4-e7b25d6abd54"
      },
      "source": [
        "SHP = gpd.GeoDataFrame(columns = ['style_css', 'label', 'text', 'dateTime', 'geometry'])\n",
        "\n",
        "for i in range(len(ais)):\n",
        "\n",
        "    label = ais['mmsi'][i]\n",
        "    lat, lon = ais['latitude'][i], ais['longitude'][i]\n",
        "    coordinates = [(lon, lat)]\n",
        "    geometry = Point(coordinates)\n",
        "\n",
        "    new_row = {'style_css':style, 'label':label, 'text':text, 'dateTime':dateTime, 'geometry':geometry   }\n",
        "    SHP = SHP.append(new_row, ignore_index=True)\n",
        "    \n",
        "SHP"
      ],
      "execution_count": null,
      "outputs": [
        {
          "output_type": "execute_result",
          "data": {
            "text/html": [
              "<div>\n",
              "<style scoped>\n",
              "    .dataframe tbody tr th:only-of-type {\n",
              "        vertical-align: middle;\n",
              "    }\n",
              "\n",
              "    .dataframe tbody tr th {\n",
              "        vertical-align: top;\n",
              "    }\n",
              "\n",
              "    .dataframe thead th {\n",
              "        text-align: right;\n",
              "    }\n",
              "</style>\n",
              "<table border=\"1\" class=\"dataframe\">\n",
              "  <thead>\n",
              "    <tr style=\"text-align: right;\">\n",
              "      <th></th>\n",
              "      <th>style_css</th>\n",
              "      <th>label</th>\n",
              "      <th>text</th>\n",
              "      <th>dateTime</th>\n",
              "      <th>geometry</th>\n",
              "    </tr>\n",
              "  </thead>\n",
              "  <tbody>\n",
              "    <tr>\n",
              "      <th>0</th>\n",
              "      <td>symbol:pin; fill:#0000ff; fill-opacity:0.7; st...</td>\n",
              "      <td>247316200</td>\n",
              "      <td>None</td>\n",
              "      <td>None</td>\n",
              "      <td>POINT (10.03826 43.57868)</td>\n",
              "    </tr>\n",
              "    <tr>\n",
              "      <th>1</th>\n",
              "      <td>symbol:pin; fill:#0000ff; fill-opacity:0.7; st...</td>\n",
              "      <td>247227600</td>\n",
              "      <td>None</td>\n",
              "      <td>None</td>\n",
              "      <td>POINT (9.54766 44.16554)</td>\n",
              "    </tr>\n",
              "    <tr>\n",
              "      <th>2</th>\n",
              "      <td>symbol:pin; fill:#0000ff; fill-opacity:0.7; st...</td>\n",
              "      <td>227017200</td>\n",
              "      <td>None</td>\n",
              "      <td>None</td>\n",
              "      <td>POINT (7.87817 43.63813)</td>\n",
              "    </tr>\n",
              "    <tr>\n",
              "      <th>3</th>\n",
              "      <td>symbol:pin; fill:#0000ff; fill-opacity:0.7; st...</td>\n",
              "      <td>232023565</td>\n",
              "      <td>None</td>\n",
              "      <td>None</td>\n",
              "      <td>POINT (9.74277 44.02827)</td>\n",
              "    </tr>\n",
              "    <tr>\n",
              "      <th>4</th>\n",
              "      <td>symbol:pin; fill:#0000ff; fill-opacity:0.7; st...</td>\n",
              "      <td>247013400</td>\n",
              "      <td>None</td>\n",
              "      <td>None</td>\n",
              "      <td>POINT (9.48062 43.04811)</td>\n",
              "    </tr>\n",
              "    <tr>\n",
              "      <th>...</th>\n",
              "      <td>...</td>\n",
              "      <td>...</td>\n",
              "      <td>...</td>\n",
              "      <td>...</td>\n",
              "      <td>...</td>\n",
              "    </tr>\n",
              "    <tr>\n",
              "      <th>285</th>\n",
              "      <td>symbol:pin; fill:#0000ff; fill-opacity:0.7; st...</td>\n",
              "      <td>247081680</td>\n",
              "      <td>None</td>\n",
              "      <td>None</td>\n",
              "      <td>POINT (10.29067 43.47236)</td>\n",
              "    </tr>\n",
              "    <tr>\n",
              "      <th>286</th>\n",
              "      <td>symbol:pin; fill:#0000ff; fill-opacity:0.7; st...</td>\n",
              "      <td>247387600</td>\n",
              "      <td>None</td>\n",
              "      <td>None</td>\n",
              "      <td>POINT (8.08285 43.71192)</td>\n",
              "    </tr>\n",
              "    <tr>\n",
              "      <th>287</th>\n",
              "      <td>symbol:pin; fill:#0000ff; fill-opacity:0.7; st...</td>\n",
              "      <td>247046600</td>\n",
              "      <td>None</td>\n",
              "      <td>None</td>\n",
              "      <td>POINT (10.34929 42.82843)</td>\n",
              "    </tr>\n",
              "    <tr>\n",
              "      <th>288</th>\n",
              "      <td>symbol:pin; fill:#0000ff; fill-opacity:0.7; st...</td>\n",
              "      <td>319345000</td>\n",
              "      <td>None</td>\n",
              "      <td>None</td>\n",
              "      <td>POINT (10.24034 43.85690)</td>\n",
              "    </tr>\n",
              "    <tr>\n",
              "      <th>289</th>\n",
              "      <td>symbol:pin; fill:#0000ff; fill-opacity:0.7; st...</td>\n",
              "      <td>247045770</td>\n",
              "      <td>None</td>\n",
              "      <td>None</td>\n",
              "      <td>POINT (9.69195 44.02267)</td>\n",
              "    </tr>\n",
              "  </tbody>\n",
              "</table>\n",
              "<p>290 rows × 5 columns</p>\n",
              "</div>"
            ],
            "text/plain": [
              "                                             style_css  ...                   geometry\n",
              "0    symbol:pin; fill:#0000ff; fill-opacity:0.7; st...  ...  POINT (10.03826 43.57868)\n",
              "1    symbol:pin; fill:#0000ff; fill-opacity:0.7; st...  ...   POINT (9.54766 44.16554)\n",
              "2    symbol:pin; fill:#0000ff; fill-opacity:0.7; st...  ...   POINT (7.87817 43.63813)\n",
              "3    symbol:pin; fill:#0000ff; fill-opacity:0.7; st...  ...   POINT (9.74277 44.02827)\n",
              "4    symbol:pin; fill:#0000ff; fill-opacity:0.7; st...  ...   POINT (9.48062 43.04811)\n",
              "..                                                 ...  ...                        ...\n",
              "285  symbol:pin; fill:#0000ff; fill-opacity:0.7; st...  ...  POINT (10.29067 43.47236)\n",
              "286  symbol:pin; fill:#0000ff; fill-opacity:0.7; st...  ...   POINT (8.08285 43.71192)\n",
              "287  symbol:pin; fill:#0000ff; fill-opacity:0.7; st...  ...  POINT (10.34929 42.82843)\n",
              "288  symbol:pin; fill:#0000ff; fill-opacity:0.7; st...  ...  POINT (10.24034 43.85690)\n",
              "289  symbol:pin; fill:#0000ff; fill-opacity:0.7; st...  ...   POINT (9.69195 44.02267)\n",
              "\n",
              "[290 rows x 5 columns]"
            ]
          },
          "metadata": {
            "tags": []
          },
          "execution_count": 6
        }
      ]
    },
    {
      "cell_type": "markdown",
      "metadata": {
        "id": "cCDnNRQNYIld"
      },
      "source": [
        "# Save Esri ShapeFile"
      ]
    },
    {
      "cell_type": "code",
      "metadata": {
        "id": "YSdx4o1-aKla",
        "colab": {
          "base_uri": "https://localhost:8080/"
        },
        "outputId": "982835ca-ba1d-4e83-8577-eea797e6d20b"
      },
      "source": [
        "%cd /content/drive/MyDrive\n",
        "!mkdir esri_shp_files\n",
        "%cd esri_shp_files"
      ],
      "execution_count": null,
      "outputs": [
        {
          "output_type": "stream",
          "text": [
            "/content/drive/MyDrive\n",
            "/content/drive/MyDrive/esri_shp_files\n"
          ],
          "name": "stdout"
        }
      ]
    },
    {
      "cell_type": "code",
      "metadata": {
        "id": "05lctq_3YIld"
      },
      "source": [
        "SHP.to_file('navi.shp')"
      ],
      "execution_count": null,
      "outputs": []
    },
    {
      "cell_type": "code",
      "metadata": {
        "id": "YKdJa7FkYIld"
      },
      "source": [],
      "execution_count": null,
      "outputs": []
    }
  ]
}