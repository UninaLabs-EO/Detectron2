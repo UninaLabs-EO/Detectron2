{
  "nbformat": 4,
  "nbformat_minor": 0,
  "metadata": {
    "colab": {
      "name": "rotated_ships_example",
      "provenance": [],
      "collapsed_sections": [],
      "machine_shape": "hm"
    },
    "kernelspec": {
      "name": "python3",
      "display_name": "Python 3.8.2 64-bit ('coast': conda)"
    },
    "accelerator": "GPU",
    "interpreter": {
      "hash": "0e69631618c4709356f6b0774f511e8035aaeb2e548ebf52fb8b07a9bd62ac62"
    },
    "language_info": {
      "name": "python",
      "version": "3.8.2"
    }
  },
  "cells": [
    {
      "cell_type": "markdown",
      "metadata": {
        "id": "lxM1KQZO_6rv"
      },
      "source": [
        "# Detectron2 (FAIR)\n"
      ]
    },
    {
      "cell_type": "code",
      "metadata": {
        "id": "Xq_wI0iYNZWq",
        "colab": {
          "base_uri": "https://localhost:8080/"
        },
        "outputId": "deb6c087-bed7-4ec8-ef66-3ab35c7c103e"
      },
      "source": [
        "import detectron2\n",
        "import contextlib\n",
        "import datetime\n",
        "import io\n",
        "import os\n",
        "import json\n",
        "import logging\n",
        "import cv2\n",
        "import random\n",
        "import numpy as np\n",
        "import copy,torch,torchvision\n",
        "import PIL\n",
        "from PIL import Image\n",
        "import xml.etree.ElementTree as X\n",
        "import math\n",
        "from itertools import repeat\n",
        "\n",
        "from detectron2.structures import Boxes, BoxMode, PolygonMasks\n",
        "from detectron2.config import *\n",
        "from detectron2.modeling import build_model\n",
        "from detectron2 import model_zoo\n",
        "from detectron2.data import transforms as T\n",
        "from detectron2.data import detection_utils as utils\n",
        "from detectron2.data import DatasetCatalog, MetadataCatalog, build_detection_test_loader, build_detection_train_loader\n",
        "from detectron2.data.datasets import register_coco_instances\n",
        "from detectron2.engine import DefaultTrainer, DefaultPredictor\n",
        "from detectron2.checkpoint import DetectionCheckpointer\n",
        "from detectron2.evaluation import COCOEvaluator,DatasetEvaluators, inference_on_dataset, coco_evaluation, DatasetEvaluator\n",
        "from detectron2.utils.logger import setup_logger\n",
        "from detectron2.utils.visualizer import Visualizer\n",
        "import matplotlib.pyplot as plt\n",
        "\n",
        "import glob\n",
        "import time\n",
        "import shutil\n",
        "from multiprocessing.pool import ThreadPool\n",
        "import concurrent.futures\n",
        "# from pyunpack import Archive\n",
        "from utility.LossEvalHook import *\n",
        "\n",
        "\n",
        "import torch\n",
        "torch.cuda.set_device(0)\n",
        "\n",
        "setup_logger()"
      ],
      "execution_count": null,
      "outputs": []
    },
    {
      "cell_type": "code",
      "metadata": {
        "id": "8G_8pKZfb6Gv",
        "cellView": "code"
      },
      "source": [
        "class MyTrainer(DefaultTrainer):\n",
        "    @classmethod\n",
        "    def build_evaluator(cls, cfg, dataset_name, output_folder=None):\n",
        "        if output_folder is None:\n",
        "            output_folder = os.path.join(cfg.OUTPUT_DIR, \"inference\")\n",
        "        return COCOEvaluator(dataset_name, cfg, True, output_folder)\n",
        "\n",
        "\n",
        "    # @classmethod\n",
        "    # def build_train_loader(cls, cfg):\n",
        "    #     dataloader = build_detection_train_loader(cfg,\n",
        "    #         mapper=DatasetMapper(cfg, is_train=True, augmentations=[\n",
        "    #         T.Resize((1000,1000)),\n",
        "    #         T.RandomFlip(0.5, horizontal=True, vertical=False),\n",
        "    #         T.RandomFlip(0.5, horizontal=False, vertical=True),\n",
        "    #         T.RandomRotation(angle=[-60,60], expand=True, center=None, sample_style='range', interp=None),\n",
        "    #         # T.RandomContrast(intensity_min=-1, intensity_max=2),\n",
        "    #     ]))\n",
        "    #     return dataloader   \n",
        "        # use this dataloader instead of the default\n",
        "        \n",
        "    def build_hooks(self):\n",
        "        hooks = super().build_hooks()\n",
        "        hooks.insert(-1,LossEvalHook(\n",
        "            cfg.TEST.EVAL_PERIOD,\n",
        "            self.model,\n",
        "            build_detection_test_loader(\n",
        "                self.cfg,\n",
        "                self.cfg.DATASETS.TEST[0],\n",
        "                DatasetMapper(self.cfg,True)\n",
        "            )\n",
        "        ))\n",
        "        return hooks"
      ],
      "execution_count": null,
      "outputs": []
    },
    {
      "cell_type": "markdown",
      "metadata": {
        "id": "0aWxnKl8pJz0"
      },
      "source": [
        "## Dataset preperation"
      ]
    },
    {
      "cell_type": "code",
      "execution_count": null,
      "metadata": {},
      "outputs": [],
      "source": [
        "# if your dataset is in COCO format, this cell can be replaced by the following three lines:\n",
        "register_coco_instances(\"ship_dataset_train\", {}, \"ShipAnnotations/train2017.json\", \"ShipDataset\")\n",
        "register_coco_instances(\"ship_dataset_val\", {}, \"ShipAnnotations/test2017.json\", \"ShipDataset\")"
      ]
    },
    {
      "cell_type": "code",
      "execution_count": null,
      "metadata": {},
      "outputs": [],
      "source": [
        "# if your dataset is in COCO format, this cell can be replaced by the following three lines:\n",
        "register_coco_instances(\"wake_dataset_train\", {}, \"Sar Wakes 3/train/coco.json\", \"Sar Wakes 3/train/imgs\")\n",
        "register_coco_instances(\"wake_dataset_val\", {}, \"Sar Wakes 3/validation/coco.json\", \"Sar Wakes 3/validation/imgs\")\n",
        "\n",
        "# MetadataCatalog.get(\"wake_dataset_train\").set(thing_classes=[\"wake\"])\n",
        "# MetadataCatalog.get(\"wake_dataset_val\").set(thing_classes=[\"wake\"])"
      ]
    },
    {
      "cell_type": "markdown",
      "metadata": {
        "id": "0I0LCzBCNeJd"
      },
      "source": [
        "## Setup configuration\n",
        "Now we've got out data in a usable form,and some useful functions lets configure our tests. below are the options for training, "
      ]
    },
    {
      "cell_type": "code",
      "metadata": {
        "id": "7unkuuiqLdqd"
      },
      "source": [
        "cfg = get_cfg()\n",
        "cfg.OUTPUT_DIR = 'output'\n",
        "#  Let training initialize from models.txt\n",
        "MODEL = \"Misc/cascade_mask_rcnn_R_50_FPN_3x.yaml\"\n",
        "cfg.merge_from_file(model_zoo.get_config_file(MODEL))\n",
        "cfg.MODEL.WEIGHTS = model_zoo.get_checkpoint_url(MODEL) #\n",
        "cfg.DATASETS.TRAIN = (\"wake_dataset_train\",)\n",
        "cfg.DATASETS.TEST = (\"wake_dataset_val\",)\n",
        "\n",
        "cfg.MODEL.MASK_ON=False\n",
        "cfg.MODEL.ROI_HEADS.SCORE_THRESH_TEST = 0.8 \n",
        "cfg.MODEL.ROI_HEADS.BATCH_SIZE_PER_IMAGE = 512   # this is far lower than usual.  \n",
        "cfg.MODEL.ROI_HEADS.NUM_CLASSES =  1             # only has one class.\n",
        "cfg.MODEL.RETINANET.NUM_CLASSES =  1\n",
        "\n",
        "cfg.SOLVER.IMS_PER_BATCH = 1          # can be up to  24 for a p100 (6 default)\n",
        "cfg.SOLVER.CHECKPOINT_PERIOD = 500\n",
        "cfg.TEST.EVAL_PERIOD = 500\n",
        "cfg.SOLVER.BASE_LR = 0.05\n",
        "cfg.SOLVER.GAMMA = 0.5\n",
        "cfg.SOLVER.STEPS=[1000,1200,2500,3000]\n",
        "cfg.SOLVER.MAX_ITER=5000\n",
        "\n",
        "cfg.MODEL.PIXEL_MEAN = [60, 60, 60]\n",
        "cfg.DATALOADER.NUM_WORKERS = 2\n",
        "# cfg.DATALOADER.FILTER_EMPTY_ANNOTATIONS = True \n",
        "os.makedirs(cfg.OUTPUT_DIR, exist_ok=True)#lets just check our output dir exists"
      ],
      "execution_count": null,
      "outputs": []
    },
    {
      "cell_type": "markdown",
      "metadata": {
        "id": "1KUDANtq53M0"
      },
      "source": [
        "## Training\n",
        "### Load tensorboard to view progress"
      ]
    },
    {
      "cell_type": "code",
      "metadata": {
        "id": "NnpIJJXFKt_S"
      },
      "source": [
        "# # Look at training curves in tensorboard:\n",
        "# %reload_ext tensorboard\n",
        "# %tensorboard --logdir \"output\""
      ],
      "execution_count": null,
      "outputs": []
    },
    {
      "cell_type": "markdown",
      "metadata": {
        "id": "SOpi4T9DoYYV"
      },
      "source": [
        "### Start training"
      ]
    },
    {
      "cell_type": "code",
      "metadata": {
        "id": "2gysMa97r57i"
      },
      "source": [
        "# cfg.MODEL.WEIGHTS = os.path.join(cfg.OUTPUT_DIR, \"model_final.pth\")\n",
        "trainer = MyTrainer(cfg) \n",
        "trainer.resume_or_load(resume=True)\n",
        "trainer.train()"
      ],
      "execution_count": null,
      "outputs": []
    },
    {
      "cell_type": "markdown",
      "metadata": {
        "id": "J9pSlGrxUyWl"
      },
      "source": [
        "## Evaluation\n",
        "\n",
        "The results produced about aren't as accurate as those performed outside of training. So let's rerun our evaluations. "
      ]
    },
    {
      "cell_type": "markdown",
      "metadata": {
        "id": "ktlBIWRdnm6L"
      },
      "source": [
        "### COCO dataset conversions"
      ]
    },
    {
      "cell_type": "code",
      "metadata": {
        "colab": {
          "base_uri": "https://localhost:8080/"
        },
        "id": "-R-Z_CWp1tqH",
        "outputId": "1872979c-39ce-445e-8b19-d55c2f522640"
      },
      "source": [
        "# Create coco evaluator, but use the default detectron2 data format for generation, make sure ids overlap\n",
        "evaluator = COCOEvaluator(\"wake_dataset_val\", cfg, False, output_dir=cfg.OUTPUT_DIR)\n",
        "val_loader = build_detection_test_loader(cfg, \"wake_dataset_val\") \n",
        "outputs = inference_on_dataset(trainer.model, val_loader, evaluator)"
      ],
      "execution_count": null,
      "outputs": []
    },
    {
      "cell_type": "code",
      "metadata": {
        "id": "H9ffPLVUaXVS",
        "colab": {
          "base_uri": "https://localhost:8080/",
          "height": 739
        },
        "outputId": "ad0cc330-0d2a-450c-9349-20270602905d"
      },
      "source": [
        "cfg.MODEL.WEIGHTS = \"checkpoints/Model Trained Wake/cascade_mask_rcnn_R_50_FPN_3x/model_0002979.pth\"\n",
        "cfg.MODEL.ROI_HEADS.SCORE_THRESH_TEST = 0.6 \n",
        "predictor = DefaultPredictor(cfg)\n",
        "\n",
        "\n"
      ],
      "execution_count": null,
      "outputs": []
    },
    {
      "cell_type": "code",
      "execution_count": null,
      "metadata": {},
      "outputs": [],
      "source": [
        "# test_dict = get_dataset(\"wake_dataset_val\")\n",
        "from detectron2.utils.visualizer import ColorMode\n",
        "test_img = glob.glob('Sar Wakes 3/validation/imgs/*.png')\n",
        "for d in random.sample(test_img, 10):\n",
        "  im = cv2.imread(d)\n",
        "  outputs = predictor(im)  \n",
        "  v = Visualizer(im[:, :, ::-1],\n",
        "                  metadata=MetadataCatalog.get(\"wake_dataset_val\"), \n",
        "                  scale=1)\n",
        "\n",
        " \n",
        "  out = v.draw_instance_predictions(outputs[\"instances\"].to(\"cpu\"))\n",
        "  plt.figure(figsize=(10,10))\n",
        "  plt.imshow(out.get_image()[:, :, ::-1])\n",
        "  plt.axis(False)\n",
        "  plt.show()"
      ]
    },
    {
      "cell_type": "code",
      "execution_count": null,
      "metadata": {},
      "outputs": [],
      "source": [
        "# test_dict = get_dataset(\"wake_dataset_val\")\n",
        "im = cv2.imread('ScenariTest/ShipWakeTerraSAR-X/VV.tiff')\n",
        "outputs = predictor(im)  \n",
        "v = Visualizer(im[:, :, ::-1],\n",
        "                  metadata=MetadataCatalog.get(\"wake_dataset_val\"), \n",
        "                  scale=1)\n",
        "                  # instance_mode=ColorMode.IMAGE_BW   # remove the colors of unsegmented pixels. This option is only available for segmentation models\n",
        "  # )\n",
        "out = v.draw_instance_predictions(outputs[\"instances\"].to(\"cpu\"))\n",
        "plt.figure(figsize=(10,10))\n",
        "plt.imshow(out.get_image()[:, :, ::-1])\n",
        "plt.axis(False)\n",
        "plt.show()"
      ]
    },
    {
      "cell_type": "code",
      "execution_count": 86,
      "metadata": {},
      "outputs": [],
      "source": [
        "im = cv2.imread('ScenariTest/ShipWakeTerraSAR-X/VV.tiff')\n",
        "x,y = im.shape[0], im.shape[1] \n",
        "range_x, range_y = np.arange(500, x-500, 500), np.arange(500, y-500, 500)\n",
        "\n",
        "Bboxes = []\n",
        "for space_x in range_x:\n",
        "    for space_y in range_y:\n",
        "        img = im[(space_x-500):(space_x+500),(space_y-500):(space_y+500)]\n",
        "        outputs = predictor(img)\n",
        "        bboxes=outputs[\"instances\"].pred_boxes.tensor.cpu().numpy()\n",
        "        for b in bboxes: \n",
        "            b[0], b[1], b[2], b[3] = \n",
        "            Bboxes.append(b)\n",
        "\n",
        "Bboxes_arr = np.array(Bboxes)"
      ]
    },
    {
      "cell_type": "code",
      "execution_count": 97,
      "metadata": {},
      "outputs": [
        {
          "output_type": "execute_result",
          "data": {
            "text/plain": [
              "array([[4.03069611e+02, 8.07007568e+02, 9.93362549e+02, 9.83690491e+02],\n",
              "       [4.44335022e+02, 8.14574463e+02, 9.02755737e+02, 9.93942383e+02],\n",
              "       [1.02445984e+01, 7.78078552e+02, 8.85861816e+02, 9.79357239e+02],\n",
              "       [0.00000000e+00, 8.10406738e+02, 4.23812012e+02, 9.93653015e+02],\n",
              "       [6.90940186e+02, 7.35234314e+02, 9.91155640e+02, 9.14234253e+02],\n",
              "       [5.62303406e+02, 4.94804718e+02, 9.93138123e+02, 9.80390625e+02],\n",
              "       [1.18795090e+02, 3.10268890e+02, 9.75732361e+02, 4.74914429e+02],\n",
              "       [4.56544304e+01, 4.75291504e+02, 5.29301636e+02, 9.90162720e+02],\n",
              "       [3.09591766e+02, 3.00343018e+02, 9.42853088e+02, 5.98358826e+02],\n",
              "       [2.03178024e+01, 2.82192017e+02, 8.74682495e+02, 4.78997955e+02],\n",
              "       [2.40352249e+01, 2.65970612e+02, 9.43456421e+02, 5.76292053e+02],\n",
              "       [7.26169586e+00, 3.00203796e+02, 5.66873291e+02, 5.11643616e+02],\n",
              "       [6.93734070e+02, 2.36417694e+02, 9.86926331e+02, 4.18223206e+02],\n",
              "       [2.20299713e+02, 5.69267700e+02, 9.08212158e+02, 9.64495544e+02],\n",
              "       [5.45442200e+01, 4.07949890e+02, 6.85488281e+02, 5.73438721e+02],\n",
              "       [1.09603500e+01, 7.06661743e+02, 7.46842529e+02, 9.93914429e+02],\n",
              "       [2.65138672e+02, 8.05850891e+02, 7.68880005e+02, 9.98267151e+02],\n",
              "       [6.65473633e+02, 6.24854248e+02, 9.92792358e+02, 8.41087891e+02],\n",
              "       [4.20152664e+00, 7.12082214e+02, 4.05094971e+02, 9.55945557e+02],\n",
              "       [1.71929230e+02, 6.18540955e+02, 5.44766968e+02, 8.35642212e+02],\n",
              "       [3.48403549e+01, 6.18407532e+02, 5.61073120e+02, 9.28682373e+02],\n",
              "       [5.62483215e+02, 1.91778183e+00, 9.88053894e+02, 4.79336548e+02],\n",
              "       [6.24043655e+01, 0.00000000e+00, 5.65978638e+02, 5.33949341e+02],\n",
              "       [5.93848419e+01, 6.36768372e+02, 9.88049072e+02, 9.67358704e+02],\n",
              "       [2.41025925e+01, 4.02165894e+02, 9.83532715e+02, 8.84456543e+02],\n",
              "       [2.29634430e+02, 7.14611206e+01, 9.71659851e+02, 4.81740570e+02],\n",
              "       [1.36504745e+01, 3.73433533e+02, 7.22304077e+02, 7.21805176e+02],\n",
              "       [2.69545776e+02, 3.01768951e+02, 9.72115356e+02, 5.77734070e+02],\n",
              "       [6.57431641e+02, 1.27208931e+02, 9.92173462e+02, 3.38835480e+02],\n",
              "       [1.62187637e+02, 1.20602119e+02, 5.61356323e+02, 3.34717163e+02],\n",
              "       [1.01864815e+01, 1.18023834e+02, 5.60597290e+02, 4.56598541e+02],\n",
              "       [1.43281937e+01, 3.49093079e+02, 8.13259277e+02, 5.85372375e+02],\n",
              "       [4.88854126e+02, 7.14553772e+02, 9.97062622e+02, 9.90576416e+02],\n",
              "       [2.84238617e+02, 4.32252563e+02, 9.73234253e+02, 8.54015137e+02],\n",
              "       [6.29892349e+00, 7.07997925e+02, 5.32067139e+02, 9.89812134e+02],\n",
              "       [2.57779510e+02, 3.12315338e+02, 9.71682251e+02, 4.62288513e+02],\n",
              "       [3.03961563e+01, 1.47088348e+02, 9.88220703e+02, 4.76744080e+02],\n",
              "       [1.77984619e+01, 9.32641983e+00, 9.10962402e+02, 3.83023438e+02],\n",
              "       [1.17907715e+01, 4.78869438e+00, 4.24011566e+02, 2.11371307e+02],\n",
              "       [7.62016602e+02, 3.98560516e+02, 9.89416504e+02, 6.80833740e+02],\n",
              "       [4.44393066e+02, 2.10413116e+02, 9.91924683e+02, 5.29450073e+02],\n",
              "       [2.86962830e+02, 8.44746552e+01, 7.49190002e+02, 3.07300018e+02],\n",
              "       [2.61374237e+02, 4.11433594e+02, 5.80880798e+02, 7.25802979e+02],\n",
              "       [2.72202393e+02, 3.99160767e+02, 8.88148071e+02, 9.47330933e+02],\n",
              "       [1.06695366e+01, 2.05305466e+02, 5.25588440e+02, 5.13204956e+02],\n",
              "       [4.80315247e+02, 6.06814941e+02, 9.93988770e+02, 8.75528442e+02],\n",
              "       [2.04004288e+01, 3.76629089e+02, 9.72977600e+02, 7.69634033e+02],\n",
              "       [1.82035446e+01, 5.31055664e+02, 6.93430664e+02, 8.55983643e+02],\n",
              "       [2.24632645e+01, 5.81585022e+02, 8.65616150e+02, 7.84235168e+02],\n",
              "       [2.12104935e+02, 7.52603882e+02, 8.00249573e+02, 9.68395691e+02],\n",
              "       [2.09500458e+02, 6.69722168e+02, 3.78608429e+02, 8.60679199e+02],\n",
              "       [3.69092834e+02, 7.98929138e+02, 9.92244141e+02, 9.30815918e+02],\n",
              "       [1.21577225e+02, 7.25432739e+02, 8.01539917e+02, 9.45736206e+02],\n",
              "       [4.96970764e+02, 1.08816177e+02, 9.94871765e+02, 3.68494568e+02],\n",
              "       [9.55886841e+00, 3.19595528e+01, 6.95909180e+02, 3.60438538e+02],\n",
              "       [5.87910461e+01, 1.01527542e+02, 9.36590881e+02, 6.23263184e+02],\n",
              "       [1.76458931e+01, 7.60240417e+02, 6.47226257e+02, 9.70262817e+02],\n",
              "       [2.10929413e+02, 2.48980789e+02, 7.92094849e+02, 5.10209045e+02],\n",
              "       [5.46914307e+02, 4.40230347e+02, 9.61322937e+02, 6.26338867e+02],\n",
              "       [7.12733521e+02, 1.72568817e+02, 8.82879578e+02, 3.70519104e+02],\n",
              "       [6.63169067e+02, 6.82598938e+02, 9.83598145e+02, 9.90535950e+02],\n",
              "       [3.67786743e+02, 3.03946198e+02, 9.81223267e+02, 4.33120911e+02],\n",
              "       [4.08064545e+02, 5.86694397e+02, 9.89405518e+02, 9.89641968e+02],\n",
              "       [2.10193710e+02, 1.70212067e+02, 3.86293274e+02, 3.67193268e+02],\n",
              "       [1.56663071e+02, 6.80596008e+02, 5.04878693e+02, 9.94840820e+02],\n",
              "       [1.18050346e+02, 2.22531204e+02, 8.11868896e+02, 4.52902283e+02],\n",
              "       [4.74563568e+02, 4.62746887e+02, 9.46358337e+02, 7.01492065e+02],\n",
              "       [3.28842926e+01, 2.54014832e+02, 6.38929138e+02, 4.83514465e+02],\n",
              "       [6.66028198e+02, 1.79879547e+02, 9.93592285e+02, 5.28213196e+02],\n",
              "       [4.12736206e+02, 9.32547913e+01, 9.91187866e+02, 5.21309753e+02],\n",
              "       [4.06294678e+02, 8.21423798e+01, 6.97581299e+02, 2.94660950e+02],\n",
              "       [1.54641235e+02, 1.75686432e+02, 5.36573547e+02, 5.54713196e+02],\n",
              "       [1.61695694e+02, 1.71590286e+02, 6.76574463e+02, 7.19414917e+02],\n",
              "       [4.23652267e+01, 7.80146118e+02, 8.02767944e+02, 9.91202942e+02],\n",
              "       [5.55360779e+02, 3.17294983e+02, 9.53638550e+02, 5.08066162e+02],\n",
              "       [8.76035156e+01, 3.13267548e+02, 6.48862793e+02, 6.11434265e+02],\n",
              "       [6.66004944e+01, 2.62841553e+02, 9.66889099e+02, 6.04729309e+02],\n",
              "       [1.41033554e+01, 3.55096680e+02, 9.73274841e+02, 6.78516174e+02],\n",
              "       [5.02655273e+02, 1.99851456e+02, 7.19990479e+02, 9.67591309e+02],\n",
              "       [4.61632721e+02, 7.13015076e+02, 8.28017883e+02, 8.83689636e+02],\n",
              "       [5.14836121e+02, 3.19918579e+02, 9.89728271e+02, 9.88002869e+02],\n",
              "       [2.44518280e+01, 2.98893860e+02, 5.51379700e+02, 9.90079346e+02],\n",
              "       [4.56736450e+02, 2.11547028e+02, 8.43574829e+02, 3.86264893e+02],\n",
              "       [3.69618591e+02, 1.57315826e+01, 9.13659302e+02, 6.67475952e+02],\n",
              "       [4.42974274e+02, 5.49665161e+02, 9.75909119e+02, 9.12244812e+02],\n",
              "       [1.01977921e+01, 8.99419785e+00, 4.24966309e+02, 5.34698486e+02],\n",
              "       [1.31238632e+02, 6.46642944e+02, 9.69955688e+02, 8.97732666e+02],\n",
              "       [7.83164978e+00, 7.04923462e+02, 7.29118408e+02, 9.38718628e+02],\n",
              "       [2.91145264e+02, 5.42953857e+02, 8.73114502e+02, 7.87964233e+02],\n",
              "       [3.75525818e+02, 1.99781647e+02, 9.73206665e+02, 9.41352905e+02],\n",
              "       [7.08885193e+00, 1.97323944e+02, 4.67559631e+02, 8.50434875e+02],\n",
              "       [1.46943207e+02, 1.33936630e+02, 9.65147827e+02, 4.00212860e+02],\n",
              "       [5.20564087e+02, 5.82972290e+02, 9.32086670e+02, 7.81787415e+02],\n",
              "       [1.80048370e+01, 1.84170624e+02, 9.92883606e+02, 6.33314758e+02],\n",
              "       [1.70969009e+01, 5.82515991e+02, 4.51610077e+02, 7.93107605e+02],\n",
              "       [2.91158447e+02, 1.03377617e+02, 6.83743042e+02, 2.84311401e+02],\n",
              "       [1.72100830e+01, 2.62768921e+02, 8.13106079e+02, 8.27153687e+02],\n",
              "       [1.71784115e+01, 5.67993652e+02, 3.33510712e+02, 8.19174927e+02],\n",
              "       [1.28355598e+01, 7.20181152e+02, 5.83122864e+02, 9.65137024e+02],\n",
              "       [2.71194489e+02, 6.88740723e+02, 5.77476685e+02, 9.84724243e+02],\n",
              "       [6.21481995e+02, 4.08159027e+02, 9.92477478e+02, 6.49974487e+02],\n",
              "       [4.01752777e+02, 1.11503601e+00, 8.15572266e+02, 4.05741608e+02],\n",
              "       [1.20307541e+02, 6.21194519e+02, 9.05179382e+02, 7.80678772e+02],\n",
              "       [9.97473526e+01, 0.00000000e+00, 8.12783325e+02, 6.81232544e+02],\n",
              "       [0.00000000e+00, 5.05772591e+00, 3.10199341e+02, 3.17688660e+02],\n",
              "       [2.12206711e+02, 6.78430664e+02, 5.46252563e+02, 9.85657959e+02],\n",
              "       [4.04975433e+02, 8.13083557e+02, 9.90614929e+02, 9.81741577e+02],\n",
              "       [3.31755447e+01, 6.16702393e+02, 9.88332642e+02, 9.81146118e+02],\n",
              "       [1.17410278e+01, 7.44896851e+02, 7.85605713e+02, 9.78417847e+02],\n",
              "       [4.23790741e+02, 6.28257263e+02, 9.88127319e+02, 9.25672729e+02],\n",
              "       [5.10721741e+02, 6.79624481e+01, 9.35245483e+02, 2.88083252e+02],\n",
              "       [6.76640701e+01, 7.14723969e+01, 9.00389709e+02, 9.35788086e+02],\n",
              "       [2.74333572e+01, 4.15718994e+02, 7.85252563e+02, 9.15966675e+02],\n",
              "       [7.55492432e+02, 0.00000000e+00, 9.97594910e+02, 1.58777908e+02],\n",
              "       [1.64381027e+00, 7.91930389e+01, 3.39752197e+02, 6.79369141e+02],\n",
              "       [1.39463234e+01, 7.87624969e+01, 4.53716278e+02, 2.97412994e+02],\n",
              "       [2.60251343e+02, 0.00000000e+00, 8.37225464e+02, 3.13274658e+02],\n",
              "       [4.19888367e+02, 4.29192200e+02, 9.12928101e+02, 7.57180237e+02],\n",
              "       [2.06866169e+01, 6.71943207e+01, 3.18670593e+02, 3.13226746e+02],\n",
              "       [1.24258423e+01, 5.19960205e+02, 4.41563751e+02, 7.51386414e+02],\n",
              "       [1.88972282e+01, 5.07656006e+02, 6.01169189e+02, 8.50660339e+02],\n",
              "       [5.03944550e+02, 5.60987061e+02, 8.41086426e+02, 7.85872925e+02],\n",
              "       [5.18786682e+02, 7.50157166e+02, 9.65087830e+02, 9.76953430e+02],\n",
              "       [2.09397125e+02, 4.99793335e+02, 8.50702576e+02, 7.82433533e+02],\n",
              "       [1.50345039e+01, 5.50942871e+02, 3.53339172e+02, 7.90502930e+02],\n",
              "       [6.10139847e+01, 7.68997681e+02, 9.87601624e+02, 9.86527100e+02],\n",
              "       [4.74476242e+01, 6.85395020e+02, 8.91760864e+02, 9.87404785e+02],\n",
              "       [1.33661163e+02, 6.86362244e+02, 9.55689087e+02, 9.54967102e+02],\n",
              "       [4.40202820e+02, 5.95409058e+02, 9.87531860e+02, 8.88175537e+02],\n",
              "       [1.12618103e+02, 5.95893616e+02, 9.80007874e+02, 9.62023560e+02],\n",
              "       [2.94038200e+01, 5.67259155e+02, 5.55552490e+02, 8.52408936e+02],\n",
              "       [4.04799194e+02, 2.20160767e+02, 9.92530640e+02, 8.23013000e+02],\n",
              "       [1.24363899e+01, 1.84156006e+02, 5.80170044e+02, 7.45007019e+02],\n",
              "       [2.83981873e+02, 4.94589813e+02, 7.05979858e+02, 8.49892456e+02],\n",
              "       [2.82421112e-01, 6.49819214e+02, 2.85715271e+02, 8.81492798e+02],\n",
              "       [1.07470436e+02, 1.16106552e+02, 8.96368286e+02, 2.79983887e+02],\n",
              "       [5.57178497e+00, 1.87254700e+02, 5.39226196e+02, 7.10009705e+02],\n",
              "       [3.67866516e+01, 3.02882263e+02, 9.74509033e+02, 6.75704346e+02],\n",
              "       [4.90025635e+02, 3.03312866e+02, 9.79734375e+02, 7.09583130e+02],\n",
              "       [8.71508026e+01, 1.26875916e+02, 9.78310608e+02, 6.15520386e+02],\n",
              "       [7.91968689e+02, 4.11880554e+02, 9.98140381e+02, 6.24945801e+02],\n",
              "       [1.02185059e+01, 2.03992844e+00, 7.01667603e+02, 4.28288940e+02],\n",
              "       [2.98400757e+02, 4.07037628e+02, 7.43270264e+02, 8.62719238e+02],\n",
              "       [5.08876221e+02, 1.76246166e+01, 8.77850952e+02, 2.26686401e+02],\n",
              "       [1.05418587e+01, 2.06821728e+01, 4.43108154e+02, 2.52477951e+02],\n",
              "       [5.01169617e+02, 5.78505325e+01, 8.41396179e+02, 2.86241638e+02],\n",
              "       [2.00196960e+02, 8.77498627e+00, 8.55764771e+02, 2.75778900e+02],\n",
              "       [5.30100830e+02, 2.50285812e+02, 9.33058350e+02, 4.75135345e+02],\n",
              "       [1.83471584e+01, 5.12366295e+01, 3.37762299e+02, 2.86006958e+02],\n",
              "       [1.28968445e+02, 3.99665100e+02, 5.38913452e+02, 5.45605957e+02],\n",
              "       [4.41110352e+02, 9.52626877e+01, 9.86654968e+02, 3.93525055e+02],\n",
              "       [2.35059547e+01, 7.66116714e+01, 5.53187744e+02, 3.54466980e+02],\n",
              "       [4.62168579e+02, 5.66989075e+02, 9.60123291e+02, 8.84182068e+02],\n",
              "       [3.60388947e+02, 2.30373383e+00, 7.96065125e+02, 3.35545227e+02],\n",
              "       [3.34286499e+01, 5.71214355e+02, 4.66440155e+02, 8.27303467e+02],\n",
              "       [5.20636780e+02, 4.81303711e+02, 9.08741455e+02, 9.42581909e+02],\n",
              "       [6.39832214e+02, 3.38152100e+02, 9.73583313e+02, 5.47014099e+02],\n",
              "       [2.88094238e+02, 2.49767494e+01, 6.63245728e+02, 3.57282349e+02],\n",
              "       [2.63634491e+01, 5.03936157e+02, 3.83041504e+02, 9.58328735e+02],\n",
              "       [6.01148605e-01, 1.53005432e+02, 2.77829742e+02, 3.79014435e+02]],\n",
              "      dtype=float32)"
            ]
          },
          "metadata": {},
          "execution_count": 97
        }
      ],
      "source": [
        "Bboxes_arr = np.array(Bboxes)\n",
        "Bboxes_arr"
      ]
    },
    {
      "cell_type": "code",
      "execution_count": 98,
      "metadata": {},
      "outputs": [],
      "source": [
        "from utility.nms import non_max_suppression_fast\n",
        "\n",
        "bboxes_draw = non_max_suppression_fast(Bboxes_arr, 0.1)\n"
      ]
    },
    {
      "cell_type": "code",
      "execution_count": 99,
      "metadata": {},
      "outputs": [
        {
          "output_type": "execute_result",
          "data": {
            "text/plain": [
              "array([[265, 805, 768, 998],\n",
              "       [ 67,  71, 900, 935]])"
            ]
          },
          "metadata": {},
          "execution_count": 99
        }
      ],
      "source": [
        "bboxes_draw"
      ]
    },
    {
      "cell_type": "code",
      "execution_count": null,
      "metadata": {},
      "outputs": [],
      "source": []
    }
  ]
}