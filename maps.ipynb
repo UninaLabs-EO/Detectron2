{
 "metadata": {
  "language_info": {
   "codemirror_mode": {
    "name": "ipython",
    "version": 3
   },
   "file_extension": ".py",
   "mimetype": "text/x-python",
   "name": "python",
   "nbconvert_exporter": "python",
   "pygments_lexer": "ipython3",
   "version": "3.9.5"
  },
  "orig_nbformat": 4,
  "kernelspec": {
   "name": "python3",
   "display_name": "Python 3.9.5 64-bit ('gdal_env': conda)"
  },
  "interpreter": {
   "hash": "d64059b9983cd8a7409352031ed84756176c013b0fe0e37084da3c811f99c85d"
  }
 },
 "nbformat": 4,
 "nbformat_minor": 2,
 "cells": [
  {
   "cell_type": "code",
   "execution_count": 1,
   "metadata": {},
   "outputs": [],
   "source": [
    "import folium\n",
    "import pandas as pd\n",
    "# import geopandas as gpd \n",
    "from folium.features import DivIcon\n",
    "from folium import plugins\n",
    "# from scipy.ndimage import imread\n",
    "from osgeo import gdal\n",
    "import cv2\n",
    "from folium.raster_layers import ImageOverlay\n",
    "import rasterio as rio"
   ]
  },
  {
   "cell_type": "code",
   "execution_count": 2,
   "metadata": {},
   "outputs": [],
   "source": [
    "df = pd.read_csv('ship_det_LL.csv')\n",
    "ais = pd.read_csv('ShipTest/esri/18072020.csv')\n",
    "ais = ais.drop_duplicates(subset='mmsi')"
   ]
  },
  {
   "cell_type": "code",
   "execution_count": 3,
   "metadata": {},
   "outputs": [],
   "source": [
    "# m=folium.Map(location=[43.7, 9.], zoom_start=9.,tiles='Stamen Terrain')\n",
    "# #                        Y   , X\n",
    "# # Add detections\n",
    "# for i in range(len(df)):\n",
    "\n",
    "#     x, y = float(df.iloc[i].latitude), float(df.iloc[i].longitude)\n",
    "#     if (abs(x-43.7) < 0.55) & (abs(y-9.)<0.55):\n",
    "#             folium.Marker(\n",
    "#                 location=[x,y],\n",
    "#                 popup=f\"Ship Detected {i}\",\n",
    "#                 icon=folium.Icon(icon='fa-ship', prefix='fa'),\n",
    "#                 ).add_to(m)\n",
    "# m\n"
   ]
  },
  {
   "cell_type": "code",
   "execution_count": 4,
   "metadata": {},
   "outputs": [],
   "source": [
    "driver=gdal.GetDriverByName('GTiff')\n",
    "driver.Register() \n",
    "#Open raster file\n",
    "ds = gdal.Open('ShipTest/S1A_IW_GRDH_1SDV_20200718T171436_20200718T171501_033512_03E220_DEFC_TC.tif') \n",
    "if ds is None:\n",
    "    print('Could not open')\n",
    "\n",
    "#Get coordinates, cols and rows\n",
    "geotransform = ds.GetGeoTransform()\n",
    "cols = ds.RasterXSize \n",
    "rows = ds.RasterYSize \n",
    "\n",
    "#Get extent\n",
    "xmin=geotransform[0]\n",
    "ymax=geotransform[3]\n",
    "xmax=xmin+cols*geotransform[1]\n",
    "ymin=ymax+rows*geotransform[5]\n",
    "\n",
    "#Get Central point\n",
    "centerx=(xmin+xmax)/2\n",
    "centery=(ymin+ymax)/2\n",
    "\n",
    "#Raster convert to array in numpy\n",
    "bands = ds.RasterCount\n",
    "band=ds.GetRasterBand(1)\n",
    "dataset= band.ReadAsArray(0,0,cols,rows)\n",
    "\n",
    "im=(dataset.astype('uint8')+20).astype('uint8')\n",
    "r,c = im.shape\n",
    "saved_im = cv2.resize(im, [r//3,c//3])"
   ]
  },
  {
   "cell_type": "code",
   "execution_count": 5,
   "metadata": {},
   "outputs": [
    {
     "output_type": "stream",
     "name": "stdout",
     "text": [
      "Done\n"
     ]
    }
   ],
   "source": [
    "#Visualization in folium\n",
    "m=folium.Map(location=[centery, centerx], zoom_start=9.2,tiles='Stamen Terrain')\n",
    "\n",
    "# Add Raster\n",
    "ImageOverlay(\n",
    "    image=saved_im,\n",
    "    bounds=[[ymin, xmin], [ymax, xmax]],\n",
    ").add_to(m)\n",
    "\n",
    "# Add detections\n",
    "for i in range(len(df)):\n",
    "    x, y = float(df.iloc[i].latitude), float(df.iloc[i].longitude)\n",
    "    if (abs(x-43.7) < 0.55) & (abs(y-9.)<0.55):\n",
    "            folium.Marker(\n",
    "                location=[x,y],\n",
    "                popup=f\"Ship Detected {i}\",\n",
    "                icon=folium.Icon(icon='fa-ship', prefix='fa'),\n",
    "                ).add_to(m)\n",
    "# Add AIS\n",
    "for i in range(len(ais)):\n",
    "    text='mmsi: '+str(ais.iloc[i].mmsi)\n",
    "    folium.CircleMarker(location=[float(ais.iloc[i].latitude.replace(',','.')),float(ais.iloc[i].longitude.replace(',','.'))], \n",
    "                        radius=10,\n",
    "                        line_color='white', \n",
    "                        fill_color='white', \n",
    "                        popup='mmsi: '+str(ais.iloc[i].mmsi),\n",
    "                        fill_opacity=1,\n",
    "                        show=True).add_to(m)\n",
    "    folium.map.Marker(\n",
    "        [float(ais.iloc[i].latitude.replace(',','.')),float(ais.iloc[i].longitude.replace(',','.'))],\n",
    "        icon=DivIcon(\n",
    "            icon_size=(150,36),\n",
    "            icon_anchor=(0,0),\n",
    "            html='<div style=\"font-size: 12pt; color: white\">%s</div>' % text,\n",
    "            )\n",
    "        ).add_to(m)\n",
    "\n",
    "\n",
    "\n",
    "m.save(\"Mappa.html\")\n",
    "print('Done')"
   ]
  },
  {
   "cell_type": "code",
   "execution_count": null,
   "metadata": {},
   "outputs": [],
   "source": []
  }
 ]
}